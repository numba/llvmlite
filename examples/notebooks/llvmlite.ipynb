{
 "cells": [
  {
   "cell_type": "markdown",
   "metadata": {},
   "source": [
    "### Check LLVM version"
   ]
  },
  {
   "cell_type": "code",
   "execution_count": 33,
   "metadata": {
    "colab": {
     "base_uri": "https://localhost:8080/",
     "height": 193
    },
    "id": "DFnLdhYtWKQA",
    "outputId": "27f70239-8c1c-4e02-bead-3d2818d84dc9"
   },
   "outputs": [
    {
     "name": "stdout",
     "output_type": "stream",
     "text": [
      "llvmlite version: 0.44.0dev0+146.g75f6e31\n",
      "llvm version: 20.0.0\n"
     ]
    }
   ],
   "source": [
    "import llvmlite\n",
    "print(\"llvmlite version:\", llvmlite.__version__)\n",
    "\n",
    "from llvmlite.binding.initfini import llvm_version_info\n",
    "print(\"llvm version:\", '.'.join(map(str, llvm_version_info)))"
   ]
  },
  {
   "cell_type": "markdown",
   "metadata": {},
   "source": [
    "### Example to show the perf benifits of Numba"
   ]
  },
  {
   "cell_type": "code",
   "execution_count": 34,
   "metadata": {},
   "outputs": [
    {
     "name": "stdout",
     "output_type": "stream",
     "text": [
      "60.3 μs ± 79.2 ns per loop (mean ± std. dev. of 7 runs, 10,000 loops each)\n",
      "5.13 ms ± 27.3 μs per loop (mean ± std. dev. of 7 runs, 100 loops each)\n"
     ]
    }
   ],
   "source": [
    "import numpy as np\n",
    "from numba import jit\n",
    "\n",
    "arr = np.random.randn(100000)\n",
    "\n",
    "@jit\n",
    "def get_sum_jit(arr):\n",
    "    s = 0.0\n",
    "    for x in arr:\n",
    "        s += x\n",
    "    return s\n",
    "\n",
    "def get_sum_no_jit(arr):\n",
    "    s = 0.0\n",
    "    for x in arr:\n",
    "        s += x\n",
    "    return s\n",
    "\n",
    "%timeit get_sum_jit(arr) \n",
    "%timeit get_sum_no_jit(arr)"
   ]
  },
  {
   "cell_type": "markdown",
   "metadata": {
    "id": "QTJVm1JgeZfQ"
   },
   "source": [
    "# Part 1: IR Builder\n",
    "### How to use llvmlite's IRBuilder APIs to build your own llvm based compiler"
   ]
  },
  {
   "cell_type": "markdown",
   "metadata": {
    "id": "hBP3iRdml4MY"
   },
   "source": [
    "#### Example 1: Building a simple llvm function to add 2 32bit integers"
   ]
  },
  {
   "cell_type": "code",
   "execution_count": 35,
   "metadata": {
    "id": "nf2utaGgUQ3W"
   },
   "outputs": [],
   "source": [
    "# Import the IR layer\n",
    "from llvmlite import ir"
   ]
  },
  {
   "cell_type": "code",
   "execution_count": 36,
   "metadata": {
    "colab": {
     "base_uri": "https://localhost:8080/"
    },
    "id": "S763i7EjZggA",
    "outputId": "23e8dac0-5d97-4efb-a452-08967944e45e"
   },
   "outputs": [
    {
     "name": "stdout",
     "output_type": "stream",
     "text": [
      "; ModuleID = \"\"\n",
      "target triple = \"unknown-unknown-unknown\"\n",
      "target datalayout = \"\"\n",
      "\n"
     ]
    }
   ],
   "source": [
    "# Create a module for our function\n",
    "mod = ir.Module(name='')\n",
    "print(mod)"
   ]
  },
  {
   "cell_type": "code",
   "execution_count": 37,
   "metadata": {
    "colab": {
     "base_uri": "https://localhost:8080/"
    },
    "id": "7CsJ9vRhdVYT",
    "outputId": "2d2fdcbd-bbca-408d-f650-c9125d3c63fb"
   },
   "outputs": [
    {
     "name": "stdout",
     "output_type": "stream",
     "text": [
      "declare i32 @\"add2\"(i32 %\".1\", i32 %\".2\")\n",
      "\n"
     ]
    }
   ],
   "source": [
    "# Build signature of our function\n",
    "foo_type = ir.FunctionType(ir.IntType(32), [ir.IntType(32), ir.IntType(32)])\n",
    "foo = ir.Function(mod, foo_type, \"add2\")\n",
    "print(foo)"
   ]
  },
  {
   "cell_type": "code",
   "execution_count": 38,
   "metadata": {
    "colab": {
     "base_uri": "https://localhost:8080/"
    },
    "id": "1vbqz3LweqDY",
    "outputId": "c5b2013e-ac1f-4a80-c60d-d2bfdad391b1"
   },
   "outputs": [
    {
     "name": "stdout",
     "output_type": "stream",
     "text": [
      "define i32 @\"add2\"(i32 %\".1\", i32 %\".2\")\n",
      "{\n",
      "entry:\n",
      "}\n",
      "\n"
     ]
    }
   ],
   "source": [
    "# Add a basic block\n",
    "foo.append_basic_block(name=\"entry\")\n",
    "print(foo)"
   ]
  },
  {
   "cell_type": "code",
   "execution_count": 39,
   "metadata": {
    "colab": {
     "base_uri": "https://localhost:8080/"
    },
    "id": "ldkcfUhJetiF",
    "outputId": "ee2ba569-5db9-45b9-8875-d3ce6b3ccbc3"
   },
   "outputs": [
    {
     "name": "stdout",
     "output_type": "stream",
     "text": [
      "%\"entry\" = entry:\n",
      "********************\n",
      "define i32 @\"add2\"(i32 %\".1\", i32 %\".2\")\n",
      "{\n",
      "entry:\n",
      "}\n",
      "\n",
      "********************\n",
      "; ModuleID = \"\"\n",
      "target triple = \"unknown-unknown-unknown\"\n",
      "target datalayout = \"\"\n",
      "\n",
      "define i32 @\"add2\"(i32 %\".1\", i32 %\".2\")\n",
      "{\n",
      "entry:\n",
      "}\n",
      "\n"
     ]
    }
   ],
   "source": [
    "# IRBuidler is the builder class for generating llvm ir in llvmlite\n",
    "\n",
    "builder = ir.IRBuilder(foo.entry_basic_block)\n",
    "print(builder.block)\n",
    "print(\"*\" * 20)\n",
    "print(builder.function)\n",
    "print(\"*\" * 20)\n",
    "print(builder.module)"
   ]
  },
  {
   "cell_type": "code",
   "execution_count": 40,
   "metadata": {
    "colab": {
     "base_uri": "https://localhost:8080/"
    },
    "id": "lLGRZl9MfiqW",
    "outputId": "a86283bc-da05-496b-9bd5-428b96286668"
   },
   "outputs": [
    {
     "name": "stdout",
     "output_type": "stream",
     "text": [
      "Function args are: i32 %\".1\" i32 %\".2\"\n",
      "define i32 @\"add2\"(i32 %\".1\", i32 %\".2\")\n",
      "{\n",
      "entry:\n",
      "  %\"c\" = add i32 %\".1\", %\".2\"\n",
      "  ret i32 %\"c\"\n",
      "}\n",
      "\n"
     ]
    }
   ],
   "source": [
    "# Capture the function args in 'a' and 'b'\n",
    "a, b = builder.function.args[:2]\n",
    "print(\"Function args are:\", a, b)\n",
    "\n",
    "# Add an 'add' instruction\n",
    "c = builder.add(a, b, 'c')\n",
    "\n",
    "# Add the 'ret' instruction\n",
    "builder.ret(c)\n",
    "\n",
    "print(foo)"
   ]
  },
  {
   "cell_type": "code",
   "execution_count": 41,
   "metadata": {
    "colab": {
     "base_uri": "https://localhost:8080/"
    },
    "id": "jYxQFICAgx8E",
    "outputId": "a6e542d5-f7ae-4fa9-8c12-b36d743eea52"
   },
   "outputs": [
    {
     "name": "stdout",
     "output_type": "stream",
     "text": [
      "; ModuleID = \"\"\n",
      "target triple = \"unknown-unknown-unknown\"\n",
      "target datalayout = \"\"\n",
      "\n",
      "define i32 @\"add2\"(i32 %\".1\", i32 %\".2\")\n",
      "{\n",
      "entry:\n",
      "  %\"c\" = add i32 %\".1\", %\".2\"\n",
      "  ret i32 %\"c\"\n",
      "}\n",
      "\n"
     ]
    }
   ],
   "source": [
    "print(mod)"
   ]
  },
  {
   "cell_type": "markdown",
   "metadata": {
    "id": "mUAhvdJAmHIo"
   },
   "source": [
    "Lets fix the target triple and module name"
   ]
  },
  {
   "cell_type": "code",
   "execution_count": 42,
   "metadata": {
    "colab": {
     "base_uri": "https://localhost:8080/"
    },
    "id": "hV4FsUrbhPlj",
    "outputId": "2df1f27c-f5e8-4e6a-ddb0-e81d5c23834b"
   },
   "outputs": [
    {
     "name": "stdout",
     "output_type": "stream",
     "text": [
      "; ModuleID = \"test_module\"\n",
      "target triple = \"aarch64-unknown-linux\"\n",
      "target datalayout = \"\"\n",
      "\n",
      "define i32 @\"add2\"(i32 %\".1\", i32 %\".2\")\n",
      "{\n",
      "entry:\n",
      "  %\"c\" = add i32 %\".1\", %\".2\"\n",
      "  ret i32 %\"c\"\n",
      "}\n",
      "\n"
     ]
    }
   ],
   "source": [
    "builder.module.name = \"test_module\"\n",
    "builder.module.triple = \"aarch64-unknown-linux\"\n",
    "print(mod)\n",
    "\n"
   ]
  },
  {
   "cell_type": "markdown",
   "metadata": {
    "id": "4J8t9hsbmNz7"
   },
   "source": [
    "We can even add function attributes"
   ]
  },
  {
   "cell_type": "code",
   "execution_count": 43,
   "metadata": {
    "colab": {
     "base_uri": "https://localhost:8080/"
    },
    "id": "ixIzX4p9hmrV",
    "outputId": "76a6c12a-9fca-4b56-d8eb-79b10af9e704"
   },
   "outputs": [
    {
     "name": "stdout",
     "output_type": "stream",
     "text": [
      "; ModuleID = \"test_module\"\n",
      "target triple = \"aarch64-unknown-linux\"\n",
      "target datalayout = \"\"\n",
      "\n",
      "define i32 @\"add2\"(i32 %\".1\", i32 %\".2\") noinline\n",
      "{\n",
      "entry:\n",
      "  %\"c\" = add i32 %\".1\", %\".2\"\n",
      "  ret i32 %\"c\"\n",
      "}\n",
      "\n"
     ]
    }
   ],
   "source": [
    "builder.function.attributes.add(\"noinline\")\n",
    "\n",
    "print(mod)"
   ]
  },
  {
   "cell_type": "markdown",
   "metadata": {
    "id": "_RTBxfhBh3H1"
   },
   "source": [
    "#### Example 2: Lets try adding another function to this module"
   ]
  },
  {
   "cell_type": "markdown",
   "metadata": {
    "id": "_RTBxfhBh3H1"
   },
   "source": [
    "Add another function called add3 to the moudle which take 3 integers as arguments and returns their sum"
   ]
  },
  {
   "cell_type": "code",
   "execution_count": 44,
   "metadata": {
    "colab": {
     "base_uri": "https://localhost:8080/"
    },
    "id": "Aexoi-WTh54g",
    "outputId": "8fe17efa-129c-4908-c1b0-e8367a19a44e"
   },
   "outputs": [
    {
     "name": "stdout",
     "output_type": "stream",
     "text": [
      "declare i32 @\"add3\"(i32 %\".1\", i32 %\".2\", i32 %\".3\")\n",
      "\n"
     ]
    }
   ],
   "source": [
    "int32 = ir.IntType(32)\n",
    "fnty = ir.FunctionType(int32, (int32, int32, int32))\n",
    "\n",
    "# Adding the new function to module 'mod'\n",
    "bar = ir.Function(mod, fnty, \"add3\")\n",
    "print(bar)"
   ]
  },
  {
   "cell_type": "code",
   "execution_count": 45,
   "metadata": {
    "colab": {
     "base_uri": "https://localhost:8080/"
    },
    "id": "RLEpkS2lPS-R",
    "outputId": "68959426-6cd8-47f5-bda5-088238ae08e9"
   },
   "outputs": [
    {
     "name": "stdout",
     "output_type": "stream",
     "text": [
      "; ModuleID = \"test_module\"\n",
      "target triple = \"aarch64-unknown-linux\"\n",
      "target datalayout = \"\"\n",
      "\n",
      "define i32 @\"add2\"(i32 %\".1\", i32 %\".2\") noinline\n",
      "{\n",
      "entry:\n",
      "  %\"c\" = add i32 %\".1\", %\".2\"\n",
      "  ret i32 %\"c\"\n",
      "}\n",
      "\n",
      "declare i32 @\"add3\"(i32 %\".1\", i32 %\".2\", i32 %\".3\")\n",
      "\n"
     ]
    }
   ],
   "source": [
    "print(mod)"
   ]
  },
  {
   "cell_type": "code",
   "execution_count": 46,
   "metadata": {
    "colab": {
     "base_uri": "https://localhost:8080/"
    },
    "id": "SdMsTX-XiSl8",
    "outputId": "2f614add-2d6d-4158-973d-d5837ee26e9d"
   },
   "outputs": [
    {
     "name": "stdout",
     "output_type": "stream",
     "text": [
      "define i32 @\"add3\"(i32 %\".1\", i32 %\".2\", i32 %\".3\")\n",
      "{\n",
      "entry:\n",
      "}\n",
      "\n"
     ]
    }
   ],
   "source": [
    "bar.append_basic_block(name=\"entry\")\n",
    "print(bar)"
   ]
  },
  {
   "cell_type": "code",
   "execution_count": 47,
   "metadata": {
    "id": "gf7l9vHgtHJI"
   },
   "outputs": [],
   "source": [
    "builder_bar = ir.IRBuilder(bar.entry_basic_block)"
   ]
  },
  {
   "cell_type": "code",
   "execution_count": 48,
   "metadata": {
    "colab": {
     "base_uri": "https://localhost:8080/"
    },
    "id": "i-_6846rtHx1",
    "outputId": "215cad57-a97f-4d27-8fa5-b9492d7193df"
   },
   "outputs": [
    {
     "name": "stdout",
     "output_type": "stream",
     "text": [
      "%\"entry\" = entry:\n",
      "********************\n",
      "define i32 @\"add3\"(i32 %\".1\", i32 %\".2\", i32 %\".3\")\n",
      "{\n",
      "entry:\n",
      "}\n",
      "\n",
      "********************\n",
      "; ModuleID = \"test_module\"\n",
      "target triple = \"aarch64-unknown-linux\"\n",
      "target datalayout = \"\"\n",
      "\n",
      "define i32 @\"add2\"(i32 %\".1\", i32 %\".2\") noinline\n",
      "{\n",
      "entry:\n",
      "  %\"c\" = add i32 %\".1\", %\".2\"\n",
      "  ret i32 %\"c\"\n",
      "}\n",
      "\n",
      "define i32 @\"add3\"(i32 %\".1\", i32 %\".2\", i32 %\".3\")\n",
      "{\n",
      "entry:\n",
      "}\n",
      "\n"
     ]
    }
   ],
   "source": [
    "print(builder_bar.block)\n",
    "print(\"*\" * 20)\n",
    "print(builder_bar.function)\n",
    "print(\"*\" * 20)\n",
    "print(builder_bar.module)"
   ]
  },
  {
   "cell_type": "code",
   "execution_count": 49,
   "metadata": {
    "colab": {
     "base_uri": "https://localhost:8080/"
    },
    "id": "fgrIxRX5tH2e",
    "outputId": "43eb11a4-94e4-401a-be5a-45a9cd2d5cd6"
   },
   "outputs": [
    {
     "name": "stdout",
     "output_type": "stream",
     "text": [
      "Function args are: i32 %\".1\" i32 %\".2\" i32 %\".3\"\n",
      "define i32 @\"add3\"(i32 %\".1\", i32 %\".2\", i32 %\".3\")\n",
      "{\n",
      "entry:\n",
      "  %\"sum1\" = add i32 %\".1\", %\".2\"\n",
      "  %\"sum2\" = add i32 %\".3\", %\"sum1\"\n",
      "  ret i32 %\"sum2\"\n",
      "}\n",
      "\n"
     ]
    }
   ],
   "source": [
    "# Capture the args in 'a', 'b' and 'c'\n",
    "a, b, c = builder_bar.function.args[:3]\n",
    "print(\"Function args are:\", a, b, c)\n",
    "\n",
    "# Add the 'add' instructions\n",
    "sum1 = builder_bar.add(a, b, 'sum1')\n",
    "sum2 = builder_bar.add(c, sum1, 'sum2')\n",
    "\n",
    "# Add the 'ret' instruction\n",
    "builder_bar.ret(sum2)\n",
    "print(bar)"
   ]
  },
  {
   "cell_type": "code",
   "execution_count": 50,
   "metadata": {
    "colab": {
     "base_uri": "https://localhost:8080/"
    },
    "id": "vqPIQwwDtrvu",
    "outputId": "3ee2cf31-a14a-46ec-a021-e7967b5071b1"
   },
   "outputs": [
    {
     "name": "stdout",
     "output_type": "stream",
     "text": [
      "; ModuleID = \"test_module\"\n",
      "target triple = \"aarch64-unknown-linux\"\n",
      "target datalayout = \"\"\n",
      "\n",
      "define i32 @\"add2\"(i32 %\".1\", i32 %\".2\") noinline\n",
      "{\n",
      "entry:\n",
      "  %\"c\" = add i32 %\".1\", %\".2\"\n",
      "  ret i32 %\"c\"\n",
      "}\n",
      "\n",
      "define i32 @\"add3\"(i32 %\".1\", i32 %\".2\", i32 %\".3\")\n",
      "{\n",
      "entry:\n",
      "  %\"sum1\" = add i32 %\".1\", %\".2\"\n",
      "  %\"sum2\" = add i32 %\".3\", %\"sum1\"\n",
      "  ret i32 %\"sum2\"\n",
      "}\n",
      "\n"
     ]
    }
   ],
   "source": [
    "print(mod)"
   ]
  },
  {
   "cell_type": "markdown",
   "metadata": {
    "id": "FlDceFg6wUAD"
   },
   "source": [
    "We could also create functions in different modules and link them into a single module"
   ]
  },
  {
   "cell_type": "code",
   "execution_count": 51,
   "metadata": {
    "id": "7VKnCtlttr2E"
   },
   "outputs": [],
   "source": [
    "# import llvmlite.binding as llvm\n",
    "\n",
    "# IRModule = llvm.parse_assembly(str(mod))\n",
    "# IRModule.link_in(llvm.parse_assembly(str(mod_bar)))\n",
    "# IRModule.name = mod.name"
   ]
  },
  {
   "cell_type": "markdown",
   "metadata": {
    "id": "32CwWJoCzlzJ"
   },
   "source": [
    "#### TODO: A More complex example with 'phi' nodes/ 'loops' etc"
   ]
  },
  {
   "cell_type": "markdown",
   "metadata": {
    "id": "6jSOz6Zqed6e"
   },
   "source": [
    "# Part 2: LLVM Playground\n",
    "### How to leverage llvmlite to hack around with LLVM-IR using python"
   ]
  },
  {
   "cell_type": "code",
   "execution_count": 52,
   "metadata": {
    "id": "X-UNoOgcsSBa"
   },
   "outputs": [],
   "source": [
    "# Intitialzations\n",
    "import llvmlite.binding as llvm\n",
    "\n",
    "llvm.initialize_native_target()\n",
    "llvm.initialize_native_asmprinter()"
   ]
  },
  {
   "cell_type": "code",
   "execution_count": 53,
   "metadata": {},
   "outputs": [],
   "source": [
    "# Helper function to create a TargetMachine object\n",
    "def target_machine(jit):\n",
    "    target = llvm.Target.from_default_triple()\n",
    "    return target.create_target_machine(jit=jit)\n"
   ]
  },
  {
   "cell_type": "code",
   "execution_count": 54,
   "metadata": {},
   "outputs": [],
   "source": [
    "# Helper function to create a PassBuilder object\n",
    "def pass_builder(speed_level=0, size_level=0):\n",
    "    tm = target_machine(jit=False)\n",
    "    pto = llvm.create_pipeline_tuning_options(speed_level, size_level)\n",
    "    pb = llvm.create_pass_builder(tm, pto)\n",
    "    return pb\n"
   ]
  },
  {
   "cell_type": "code",
   "execution_count": 55,
   "metadata": {},
   "outputs": [],
   "source": [
    "# Helper function to create PassManager object\n",
    "def mpm():\n",
    "    return llvm.create_new_module_pass_manager()\n"
   ]
  },
  {
   "cell_type": "code",
   "execution_count": null,
   "metadata": {
    "id": "qQHrsYgRsf7u"
   },
   "outputs": [],
   "source": []
  },
  {
   "cell_type": "markdown",
   "metadata": {
    "id": "bmIRTJNBz5ZI"
   },
   "source": [
    "#### Example 1: Lets try running a llvm pass (simplifycfg) on a llvm ir string"
   ]
  },
  {
   "cell_type": "code",
   "execution_count": 56,
   "metadata": {
    "colab": {
     "base_uri": "https://localhost:8080/",
     "height": 772
    },
    "id": "I_kU2Hdjj0Tg",
    "outputId": "20e04934-58ba-4cea-c9ae-de57c39eef1d"
   },
   "outputs": [],
   "source": [
    "# Below function takes a pointer to an array and return the number of 0s in first 10 elements\n",
    "ir = r\"\"\"\n",
    "define i32 @count_zeroes(i32* noalias nocapture readonly %src) {\n",
    "entry:\n",
    "  br label %loop.header\n",
    "\n",
    "loop.header:\n",
    "  %iv = phi i64 [ 0, %entry ], [ %inc, %loop.latch ]\n",
    "  %r1  = phi i32 [ 0, %entry ], [ %r3, %loop.latch ]\n",
    "  %arrayidx = getelementptr inbounds i32, i32* %src, i64 %iv\n",
    "  %src_element = load i32, i32* %arrayidx, align 4\n",
    "  %cmp = icmp eq i32 0, %src_element\n",
    "  br i1 %cmp, label %loop.if, label %loop.latch\n",
    "\n",
    "loop.if:\n",
    "  %r2 = add i32 %r1, 1\n",
    "  br label %loop.latch\n",
    "loop.latch:\n",
    "  %r3 = phi i32 [%r1, %loop.header], [%r2, %loop.if]\n",
    "  %inc = add nuw nsw i64 %iv, 1\n",
    "  %exitcond = icmp eq i64 %inc, 9\n",
    "  br i1 %exitcond, label %loop.end, label %loop.header\n",
    "loop.end:\n",
    "  %r.lcssa = phi i32 [ %r3, %loop.latch ]\n",
    "  ret i32 %r.lcssa\n",
    "}\n",
    "\"\"\"\n",
    "\n",
    "# Parse the IR as a string to module object\n",
    "count_zeroes_mod = llvm.parse_assembly(ir)\n"
   ]
  },
  {
   "cell_type": "code",
   "execution_count": 57,
   "metadata": {},
   "outputs": [
    {
     "name": "stdout",
     "output_type": "stream",
     "text": [
      "; ModuleID = '<string>'\n",
      "source_filename = \"<string>\"\n",
      "\n",
      "define i32 @count_zeroes(ptr noalias nocapture readonly %src) {\n",
      "entry:\n",
      "  br label %loop.header\n",
      "\n",
      "loop.header:                                      ; preds = %loop.header, %entry\n",
      "  %iv = phi i64 [ 0, %entry ], [ %inc, %loop.header ]\n",
      "  %r1 = phi i32 [ 0, %entry ], [ %spec.select, %loop.header ]\n",
      "  %arrayidx = getelementptr inbounds i32, ptr %src, i64 %iv\n",
      "  %src_element = load i32, ptr %arrayidx, align 4\n",
      "  %cmp = icmp eq i32 0, %src_element\n",
      "  %r2 = add i32 %r1, 1\n",
      "  %spec.select = select i1 %cmp, i32 %r2, i32 %r1\n",
      "  %inc = add nuw nsw i64 %iv, 1\n",
      "  %exitcond = icmp eq i64 %inc, 9\n",
      "  br i1 %exitcond, label %loop.end, label %loop.header\n",
      "\n",
      "loop.end:                                         ; preds = %loop.header\n",
      "  %r.lcssa = phi i32 [ %spec.select, %loop.header ]\n",
      "  ret i32 %r.lcssa\n",
      "}\n",
      "\n"
     ]
    }
   ],
   "source": [
    "# Let's run simplify-cfg pass on this module\n",
    "pm = mpm()\n",
    "pb = pass_builder()\n",
    "pm.add_simplify_cfg_pass()\n",
    "pm.run(count_zeroes_mod, pb)\n",
    "\n",
    "print(count_zeroes_mod)\n"
   ]
  },
  {
   "cell_type": "markdown",
   "metadata": {
    "id": "SMY6pV5wAXBc"
   },
   "source": [
    "\n",
    "\n",
    "### What else can we do?\n",
    "\n",
    "How about running the default llvm optimization pipelines (O0..On, etc)\n"
   ]
  },
  {
   "cell_type": "markdown",
   "metadata": {},
   "source": [
    "#### Example2: Run O3 pipeline on given LLVM IR"
   ]
  },
  {
   "cell_type": "code",
   "execution_count": 58,
   "metadata": {
    "colab": {
     "base_uri": "https://localhost:8080/"
    },
    "id": "ZmnPfx8oAftQ",
    "outputId": "9bab4d3f-1012-48c9-c114-3d011e311fed"
   },
   "outputs": [
    {
     "name": "stdout",
     "output_type": "stream",
     "text": [
      "; ModuleID = '<string>'\n",
      "source_filename = \"<string>\"\n",
      "\n",
      "; Function Attrs: mustprogress nofree norecurse nosync nounwind willreturn memory(none)\n",
      "define noundef i32 @add2nums(i32 noundef %0, i32 noundef %1) local_unnamed_addr #0 {\n",
      "  %3 = add nsw i32 %1, %0\n",
      "  ret i32 %3\n",
      "}\n",
      "\n",
      "attributes #0 = { mustprogress nofree norecurse nosync nounwind willreturn memory(none) }\n",
      "\n"
     ]
    }
   ],
   "source": [
    "# Given function takes 2 values as args and return their sum\n",
    "addFunc = r\"\"\"\n",
    "define noundef i32 @add2nums(i32 noundef %0, i32 noundef %1) {\n",
    "  %3 = alloca i32, align 4\n",
    "  %4 = alloca i32, align 4\n",
    "  store i32 %0, i32* %3, align 4\n",
    "  store i32 %1, i32* %4, align 4\n",
    "  %5 = load i32, i32* %3, align 4\n",
    "  %6 = load i32, i32* %4, align 4\n",
    "  %7 = add nsw i32 %5, %6\n",
    "  ret i32 %7\n",
    "}\n",
    "\"\"\"\n",
    "\n",
    "# Initialize and parse the llvm module from a python string\n",
    "mod = llvm.parse_assembly(addFunc)\n",
    "\n",
    "# Initialize pass builder with speed_level=3, i.e -O3\n",
    "pb = pass_builder(speed_level=3)\n",
    "\n",
    "# Get appropriate pass manager for this speed level and optimise the module\n",
    "pm = pb.getModulePassManager()\n",
    "pm.run(mod, pb)\n",
    "print(mod)\n"
   ]
  },
  {
   "cell_type": "markdown",
   "metadata": {
    "id": "5albaWa6CxJr"
   },
   "source": [
    "#### Example3: Run O0 optimization pipeline on given LLVM IR?"
   ]
  },
  {
   "cell_type": "code",
   "execution_count": 59,
   "metadata": {
    "colab": {
     "base_uri": "https://localhost:8080/"
    },
    "id": "k4-Z8AC4CzJc",
    "outputId": "b7713395-07d7-4ac6-edf0-31e47c41d475"
   },
   "outputs": [
    {
     "name": "stdout",
     "output_type": "stream",
     "text": [
      "; ModuleID = '<string>'\n",
      "source_filename = \"<string>\"\n",
      "\n",
      "define noundef i32 @add2nums(i32 noundef %0, i32 noundef %1) {\n",
      "  %3 = alloca i32, align 4\n",
      "  %4 = alloca i32, align 4\n",
      "  store i32 %0, ptr %3, align 4\n",
      "  store i32 %1, ptr %4, align 4\n",
      "  %5 = load i32, ptr %3, align 4\n",
      "  %6 = load i32, ptr %4, align 4\n",
      "  %7 = add nsw i32 %5, %6\n",
      "  ret i32 %7\n",
      "}\n",
      "\n"
     ]
    }
   ],
   "source": [
    "mod = llvm.parse_assembly(addFunc)\n",
    "\n",
    "# Initialize pass builder with speed_level=0, i.e -O0\n",
    "pb = pass_builder(speed_level=0)\n",
    "\n",
    "# Get appropriate pass manager for this speed level and optimise the module\n",
    "pm = pb.getModulePassManager()\n",
    "pm.run(mod, pb)\n",
    "print(mod)"
   ]
  },
  {
   "cell_type": "markdown",
   "metadata": {
    "id": "3fsmJfZ7fdBQ"
   },
   "source": [
    "### Create custom pipelines?"
   ]
  },
  {
   "cell_type": "markdown",
   "metadata": {},
   "source": [
    "#### Example3: Create and execute custom optimisation pipeline"
   ]
  },
  {
   "cell_type": "code",
   "execution_count": 60,
   "metadata": {
    "colab": {
     "base_uri": "https://localhost:8080/"
    },
    "id": "Gf0p6jfFfflR",
    "outputId": "c09a8acf-7ce9-4986-9f0c-72424081ee2b"
   },
   "outputs": [
    {
     "name": "stdout",
     "output_type": "stream",
     "text": [
      "; ModuleID = '<string>'\n",
      "source_filename = \"<string>\"\n",
      "\n",
      "; Function Attrs: mustprogress nofree norecurse nosync nounwind willreturn memory(none)\n",
      "define i32 @caller(i32 %.1, i32 %.2) local_unnamed_addr #0 {\n",
      "entry:\n",
      "  %.3 = add i32 %.1, %.2\n",
      "  ret i32 %.3\n",
      "}\n",
      "\n",
      "attributes #0 = { mustprogress nofree norecurse nosync nounwind willreturn memory(none) }\n",
      "\n"
     ]
    }
   ],
   "source": [
    "asm_inlineasm2 = r\"\"\"\n",
    "    define i32 @caller(i32 %.1, i32 %.2) {\n",
    "    entry:\n",
    "      %stack = alloca i32\n",
    "      store i32 %.1, i32* %stack\n",
    "      br label %main\n",
    "    main:\n",
    "      %loaded = load i32, i32* %stack\n",
    "      %.3 = add i32 %loaded, %.2\n",
    "      %.4 = add i32 0, %.3\n",
    "      ret i32 %.4\n",
    "    }\n",
    "\"\"\"\n",
    "\n",
    "mod = llvm.parse_assembly(asm_inlineasm2)\n",
    "\n",
    "# Below lines might error out since name of these APIs are now changed under NewPassManager chages in llvmlite\n",
    "\n",
    "pm = mpm()\n",
    "pm.add_constant_merge_pass()\n",
    "pm.add_dead_arg_elimination_pass()\n",
    "pm.add_post_order_function_attributes_pass()\n",
    "# pm.add_function_inlining_pass(225)\n",
    "pm.add_global_dead_code_eliminate_pass()\n",
    "pm.add_global_opt_pass()\n",
    "pm.add_ipsccp_pass()\n",
    "pm.add_dead_code_elimination_pass()\n",
    "pm.add_simplify_cfg_pass()\n",
    "pm.add_new_gvn_pass()\n",
    "pm.add_instruction_combine_pass()\n",
    "# pm.add_licm_pass()\n",
    "pm.add_sccp_pass()\n",
    "# pm.add_sroa_pass()\n",
    "# pm.add_type_based_alias_analysis_pass()\n",
    "# pm.add_basic_alias_analysis_pass()\n",
    "# pm.add_loop_rotate_pass()\n",
    "# pm.add_region_info_pass()\n",
    "# pm.add_scalar_evolution_aa_pass()\n",
    "# pm.add_aggressive_dead_code_elimination_pass()\n",
    "# pm.add_aa_eval_pass()\n",
    "# pm.add_always_inliner_pass()\n",
    "# pm.add_break_critical_edges_pass()\n",
    "# pm.add_dead_store_elimination_pass()\n",
    "# pm.add_reverse_post_order_function_attrs_pass()\n",
    "pm.run(mod, pass_builder())\n",
    "print(mod)"
   ]
  },
  {
   "cell_type": "markdown",
   "metadata": {},
   "source": [
    "### We can also access LLVM's plethora of visulization passes"
   ]
  },
  {
   "cell_type": "markdown",
   "metadata": {},
   "source": [
    "#### Example4: Python function to generate CFG graph of an LLVM IR"
   ]
  },
  {
   "cell_type": "code",
   "execution_count": 61,
   "metadata": {},
   "outputs": [],
   "source": [
    "# Helper function to render LLVM IR as a dot graph\n",
    "\n",
    "def renderModuleAsDotGraph(mod, func_name):\n",
    "  pm = mpm()\n",
    "  pm.add_cfg_printer_pass()\n",
    "  pm.run(mod, pass_builder())   # dot graph written to \".func_name.dot\"\n",
    "  !dot -Tpng .{func_name}.dot > {func_name}.png\n"
   ]
  },
  {
   "cell_type": "code",
   "execution_count": 62,
   "metadata": {},
   "outputs": [
    {
     "name": "stderr",
     "output_type": "stream",
     "text": [
      "Writing '.count_zeroes.dot'...\n"
     ]
    },
    {
     "data": {
      "image/png": "[encoded data removed]",
      "text/plain": [
       "<IPython.core.display.Image object>"
      ]
     },
     "execution_count": 62,
     "metadata": {},
     "output_type": "execute_result"
    }
   ],
   "source": [
    "from IPython.display import Image\n",
    "renderModuleAsDotGraph(count_zeroes_mod, \"count_zeroes\")\n",
    "Image('count_zeroes.png')\n"
   ]
  },
  {
   "cell_type": "code",
   "execution_count": null,
   "metadata": {},
   "outputs": [],
   "source": []
  },
  {
   "cell_type": "markdown",
   "metadata": {
    "id": "VixTvQ1FiKI8"
   },
   "source": [
    "### More single pass pipelines for experimentation?\n",
    "\n",
    "1.   Dominator tree\n",
    "2.   Post dominator tree\n",
    "3.   SLP Vectorizer\n",
    "\n"
   ]
  },
  {
   "cell_type": "code",
   "execution_count": 63,
   "metadata": {
    "id": "-P33jG7djYnb"
   },
   "outputs": [
    {
     "name": "stderr",
     "output_type": "stream",
     "text": [
      "Writing 'dom.count_zeroes.dot'...\n"
     ]
    },
    {
     "data": {
      "image/png": "[encoded data removed]",
      "text/plain": [
       "<IPython.core.display.Image object>"
      ]
     },
     "execution_count": 63,
     "metadata": {},
     "output_type": "execute_result"
    }
   ],
   "source": [
    "# Function to generate dominator tree of a LLVM function\n",
    "\n",
    "def generateDom(mod, func_name):\n",
    "  pm = mpm()\n",
    "  pm.add_dom_printer_pass()\n",
    "  pm.run(mod, pass_builder())   # dot graph written to \".func_name.dot\"\n",
    "  !dot -Tpng dom.{func_name}.dot > {func_name}.png\n",
    "\n",
    "generateDom(count_zeroes_mod, \"count_zeroes\")\n",
    "Image('count_zeroes.png')\n"
   ]
  },
  {
   "cell_type": "code",
   "execution_count": 64,
   "metadata": {
    "id": "09yXWnfAi4lG"
   },
   "outputs": [
    {
     "name": "stderr",
     "output_type": "stream",
     "text": [
      "Writing 'postdom.count_zeroes.dot'...\n"
     ]
    },
    {
     "data": {
      "image/png": "[encoded data removed]",
      "text/plain": [
       "<IPython.core.display.Image object>"
      ]
     },
     "execution_count": 64,
     "metadata": {},
     "output_type": "execute_result"
    }
   ],
   "source": [
    "# Function to generate post dominator tree of a LLVM function\n",
    "\n",
    "def generatePostDom(mod, func_name):\n",
    "  pm = mpm()\n",
    "  pm.add_post_dom_printer_pass()\n",
    "  pm.run(mod, pass_builder())   # dot graph written to \".func_name.dot\"\n",
    "  !dot -Tpng postdom.{func_name}.dot > {func_name}.png\n",
    "\n",
    "generatePostDom(count_zeroes_mod, \"count_zeroes\")\n",
    "Image('count_zeroes.png')\n"
   ]
  },
  {
   "cell_type": "code",
   "execution_count": 65,
   "metadata": {
    "id": "lMDUcI5mkZAg"
   },
   "outputs": [],
   "source": [
    "ir = r\"\"\"\n",
    "define i32 @foo(i32* noalias nocapture readonly %src) {\n",
    "entry:\n",
    "  br label %loop.header\n",
    "\n",
    "loop.header:\n",
    "  %iv = phi i64 [ 0, %entry ], [ %inc, %loop.latch ]\n",
    "  %r1  = phi i32 [ 0, %entry ], [ %r3, %loop.latch ]\n",
    "  %arrayidx = getelementptr inbounds i32, i32* %src, i64 %iv\n",
    "  %src_element = load i32, i32* %arrayidx, align 4\n",
    "  %cmp = icmp eq i32 0, %src_element\n",
    "  br i1 %cmp, label %loop.if, label %loop.latch\n",
    "\n",
    "loop.if:\n",
    "  %r2 = add i32 %r1, 1\n",
    "  br label %loop.latch\n",
    "loop.latch:\n",
    "  %r3 = phi i32 [%r1, %loop.header], [%r2, %loop.if]\n",
    "  %inc = add nuw nsw i64 %iv, 1\n",
    "  %exitcond = icmp eq i64 %inc, 9\n",
    "  br i1 %exitcond, label %loop.end, label %loop.header\n",
    "loop.end:\n",
    "  %r.lcssa = phi i32 [ %r3, %loop.latch ]\n",
    "  ret i32 %r.lcssa\n",
    "}\n",
    "\"\"\"\n",
    "\n",
    "mod = llvm.parse_assembly(ir)"
   ]
  },
  {
   "cell_type": "markdown",
   "metadata": {
    "id": "ANYikURXltmH"
   },
   "source": [
    "Experiement with slp_vectorizer?"
   ]
  },
  {
   "cell_type": "code",
   "execution_count": 66,
   "metadata": {
    "colab": {
     "base_uri": "https://localhost:8080/",
     "height": 211
    },
    "id": "PLEwWqJKlx9H",
    "outputId": "8803edea-8d98-486f-90cc-b5016c3e2e96"
   },
   "outputs": [
    {
     "ename": "AttributeError",
     "evalue": "'ModulePassManager' object has no attribute 'add_slp_vectorizer_pass'",
     "output_type": "error",
     "traceback": [
      "\u001b[0;31m---------------------------------------------------------------------------\u001b[0m",
      "\u001b[0;31mAttributeError\u001b[0m                            Traceback (most recent call last)",
      "Cell \u001b[0;32mIn[66], line 42\u001b[0m\n\u001b[1;32m      1\u001b[0m ir \u001b[38;5;241m=\u001b[39m \u001b[38;5;124mr\u001b[39m\u001b[38;5;124m\"\"\"\u001b[39m\n\u001b[1;32m      2\u001b[0m \u001b[38;5;124mdefine i32 @foo() \u001b[39m\u001b[38;5;124m{\u001b[39m\n\u001b[1;32m      3\u001b[0m \u001b[38;5;124mentry:\u001b[39m\n\u001b[0;32m   (...)\u001b[0m\n\u001b[1;32m     38\u001b[0m \u001b[38;5;124m}\u001b[39m\n\u001b[1;32m     39\u001b[0m \u001b[38;5;124m\"\"\"\u001b[39m\n\u001b[1;32m     41\u001b[0m pm \u001b[38;5;241m=\u001b[39m mpm()\n\u001b[0;32m---> 42\u001b[0m \u001b[43mpm\u001b[49m\u001b[38;5;241;43m.\u001b[39;49m\u001b[43madd_slp_vectorizer_pass\u001b[49m()\n\u001b[1;32m     43\u001b[0m pm\u001b[38;5;241m.\u001b[39madd_instruction_combining_pass()\n\u001b[1;32m     45\u001b[0m \u001b[38;5;66;03m# Somebody gonna have to add the python hook for slp_vectorizer\u001b[39;00m\n",
      "\u001b[0;31mAttributeError\u001b[0m: 'ModulePassManager' object has no attribute 'add_slp_vectorizer_pass'"
     ]
    }
   ],
   "source": [
    "ir = r\"\"\"\n",
    "define i32 @foo() {\n",
    "entry:\n",
    "  %i = xor i32 4, -9\n",
    "  %i1 = xor i32 5, %i\n",
    "  %i2 = xor i32 6, %i1\n",
    "  %i3 = add i32 %i2, 0\n",
    "  %i4 = add i32 -9, %i3\n",
    "  %i5 = xor i32 8, -9\n",
    "  %i6 = add i32 %i5, %i4\n",
    "  %i7 = xor i32 9, %i5\n",
    "  %i8 = add i32 %i7, %i6\n",
    "  %i9 = xor i32 10, %i7\n",
    "  %i10 = add i32 %i9, %i8\n",
    "  %i11 = add i32 -9, %i10\n",
    "  %i12 = xor i32 12, -9\n",
    "  %i13 = add i32 %i12, %i11\n",
    "  %i14 = xor i32 13, %i12\n",
    "  %i15 = add i32 %i14, %i13\n",
    "  %i16 = xor i32 14, %i14\n",
    "  %i17 = add i32 %i16, %i15\n",
    "  %i18 = add i32 -9, %i17\n",
    "  %i19 = xor i32 16, -9\n",
    "  %i20 = add i32 %i19, %i18\n",
    "  %i21 = xor i32 17, %i19\n",
    "  %i22 = add i32 %i21, %i20\n",
    "  %i23 = xor i32 18, %i21\n",
    "  %i24 = add i32 %i23, %i22\n",
    "  %i25 = add i32 -9, %i24\n",
    "  %i26 = add i32 0, %i25\n",
    "  %i27 = add i32 0, %i26\n",
    "  %i28 = add i32 0, %i27\n",
    "  %i29 = add i32 -9, %i28\n",
    "  %i30 = add i32 0, %i29\n",
    "  %i31 = add i32 0, %i30\n",
    "  %i32 = add i32 0, %i31\n",
    "  ret i32 %i32\n",
    "}\n",
    "\"\"\"\n",
    "\n",
    "pm = mpm()\n",
    "pm.add_slp_vectorizer_pass()\n",
    "pm.add_instruction_combining_pass()\n",
    "\n",
    "# Somebody gonna have to add the python hook for slp_vectorizer\n"
   ]
  },
  {
   "cell_type": "markdown",
   "metadata": {
    "id": "7qoTz6dpYHRv"
   },
   "source": [
    "### How about code generation?"
   ]
  },
  {
   "cell_type": "code",
   "execution_count": 67,
   "metadata": {
    "id": "oVWmtR6vYNLq"
   },
   "outputs": [],
   "source": [
    "import llvmlite.binding as llvm\n",
    "\n",
    "llvm.initialize_native_target()\n",
    "\n",
    "target = llvm.Target.from_default_triple()\n",
    "tm = target.create_target_machine()"
   ]
  },
  {
   "cell_type": "code",
   "execution_count": 68,
   "metadata": {
    "colab": {
     "base_uri": "https://localhost:8080/"
    },
    "id": "_V8UTj_MY9SY",
    "outputId": "6b08949b-a3a0-4e22-c67a-63c78004a8d7"
   },
   "outputs": [
    {
     "name": "stdout",
     "output_type": "stream",
     "text": [
      "<Target aarch64 (AArch64 (little endian))>\n",
      "aarch64-unknown-linux-gnu\n",
      "e-m:e-p270:32:32-p271:32:32-p272:64:64-i8:8:32-i16:16:32-i64:64-i128:128-n32:64-S128-Fn32\n"
     ]
    }
   ],
   "source": [
    "print(target)\n",
    "print(tm.triple)\n",
    "print(tm.target_data)"
   ]
  },
  {
   "cell_type": "markdown",
   "metadata": {
    "id": "lS1P9K8veIxy"
   },
   "source": [
    "You are not limited to native target"
   ]
  },
  {
   "cell_type": "code",
   "execution_count": 69,
   "metadata": {},
   "outputs": [],
   "source": [
    "llvm.initialize_all_targets()\n",
    "#llvm.initialize_native_target()\n",
    "\n",
    "llvm.initialize_all_asmprinters()\n",
    "# llvm.initialize_native_asmprinter()\n",
    "\n"
   ]
  },
  {
   "cell_type": "code",
   "execution_count": 73,
   "metadata": {
    "colab": {
     "base_uri": "https://localhost:8080/"
    },
    "id": "ZTjgFYChb2PB",
    "outputId": "f68f61ea-8856-48a6-f5f1-fcac850a2803"
   },
   "outputs": [],
   "source": [
    "\n",
    "# target_riscv = llvm.Target.from_triple(\"riscv32-unknown-linux\")\n",
    "# riscv_tm = target_riscv.create_target_machine()\n",
    "\n",
    "# target_x86 = llvm.Target.from_triple(\"x86-unknown-linux\")\n",
    "# x86_tm = target_aarch64.create_target_machine()\n",
    "\n",
    "native_tm = llvm.Target.from_default_triple().create_target_machine()\n",
    "\n"
   ]
  },
  {
   "cell_type": "markdown",
   "metadata": {
    "id": "F1aLF6LJ1IBq"
   },
   "source": [
    "Lets look at the assebmly of our optimized IR for different targets"
   ]
  },
  {
   "cell_type": "code",
   "execution_count": 74,
   "metadata": {
    "colab": {
     "base_uri": "https://localhost:8080/"
    },
    "id": "P6ncrM6qZmuM",
    "outputId": "8054e799-9e92-4af5-9503-e85dc9ab7fbf"
   },
   "outputs": [
    {
     "name": "stdout",
     "output_type": "stream",
     "text": [
      "**************************************** Native asm\n",
      "\t.file\t\"<string>\"\n",
      "\t.text\n",
      "\t.globl\tadd\n",
      "\t.p2align\t2\n",
      "\t.type\tadd,@function\n",
      "add:\n",
      "\t.cfi_startproc\n",
      "\tsub\tsp, sp, #16\n",
      "\t.cfi_def_cfa_offset 16\n",
      "\tstp\tw1, w0, [sp, #8]\n",
      "\tadd\tw0, w0, w1\n",
      "\tadd\tsp, sp, #16\n",
      "\tret\n",
      ".Lfunc_end0:\n",
      "\t.size\tadd, .Lfunc_end0-add\n",
      "\t.cfi_endproc\n",
      "\n",
      "\t.section\t\".note.GNU-stack\",\"\",@progbits\n",
      "\n"
     ]
    }
   ],
   "source": [
    "llvm.initialize_all_asmprinters()\n",
    "# llvm.initialize_native_asmprinter()\n",
    "\n",
    "ir = \"\"\"\n",
    "define dso_local noundef i32 @add(i32 noundef %0, i32 noundef %1) #0 {\n",
    "  %3 = alloca i32, align 4\n",
    "  %4 = alloca i32, align 4\n",
    "  store i32 %0, i32* %3, align 4\n",
    "  store i32 %1, i32* %4, align 4\n",
    "  %5 = load i32, i32* %3, align 4\n",
    "  %6 = load i32, i32* %4, align 4\n",
    "  %7 = add nsw i32 %5, %6\n",
    "  ret i32 %7\n",
    "}\n",
    "\"\"\"\n",
    "mod = llvm.parse_assembly(ir)\n",
    "\n",
    "print(\"*\" * 40, \"Native asm\")\n",
    "print(native_tm.emit_assembly(mod))\n",
    "# print(\"*\" * 40, \"RISCV asm\")\n",
    "# print(riscv_tm.emit_assembly(mod))\n",
    "# print(\"*\" * 40, \"x86 asm\")\n",
    "# print(aarch64_tm.emit_assembly(mod))\n"
   ]
  },
  {
   "cell_type": "markdown",
   "metadata": {
    "id": "i3ck7UdCesiW"
   },
   "source": [
    "Object code?"
   ]
  },
  {
   "cell_type": "code",
   "execution_count": 75,
   "metadata": {
    "colab": {
     "base_uri": "https://localhost:8080/"
    },
    "id": "6e8qTFMIeurK",
    "outputId": "b80de392-b9e9-45e6-d082-425bf5998c2c"
   },
   "outputs": [
    {
     "name": "stdout",
     "output_type": "stream",
     "text": [
      "b'\\x7fELF\\x02\\x01\\x01\\x00\\x00\\x00\\x00\\x00\\x00\\x00\\x00\\x00\\x01\\x00\\xb7\\x00\\x01\\x00\\x00\\x00\\x00\\x00\\x00\\x00\\x00\\x00\\x00\\x00\\x00\\x00\\x00\\x00\\x00\\x00\\x00\\x00\\x80\\x01\\x00\\x00\\x00\\x00\\x00\\x00\\x00\\x00\\x00\\x00@\\x00\\x00\\x00\\x00\\x00@\\x00\\x07\\x00\\x01\\x00\\xffC\\x00\\xd1\\xe1\\x03\\x01)\\x00\\x00\\x01\\x0b\\xffC\\x00\\x91\\xc0\\x03_\\xd6\\x00\\x00\\x00\\x00\\x10\\x00\\x00\\x00\\x00\\x00\\x00\\x00\\x01zR\\x00\\x01|\\x1e\\x01\\x1c\\x0c\\x1f\\x00\\x18\\x00\\x00\\x00\\x18\\x00\\x00\\x00\\x00\\x00\\x00\\x00\\x00\\x00\\x00\\x00\\x14\\x00\\x00\\x00\\x00\\x00\\x00\\x00\\x00D\\x0e\\x10\\x00\\x00\\x00\\x00\\x00\\x00\\x00\\x00\\x00\\x00\\x00\\x00\\x00\\x00\\x00\\x00\\x00\\x00\\x00\\x00\\x00\\x00\\x00\\x00@\\x00\\x00\\x00\\x04\\x00\\xf1\\xff\\x00\\x00\\x00\\x00\\x00\\x00\\x00\\x00\\x00\\x00\\x00\\x00\\x00\\x00\\x00\\x00\\x00\\x00\\x00\\x00\\x03\\x00\\x02\\x00\\x00\\x00\\x00\\x00\\x00\\x00\\x00\\x00\\x00\\x00\\x00\\x00\\x00\\x00\\x00\\x00\\x01\\x00\\x00\\x00\\x00\\x00\\x02\\x00\\x00\\x00\\x00\\x00\\x00\\x00\\x00\\x00\\x00\\x00\\x00\\x00\\x00\\x00\\x00\\x00-\\x00\\x00\\x00\\x00\\x00\\x04\\x00\\x00\\x00\\x00\\x00\\x00\\x00\\x00\\x00\\x00\\x00\\x00\\x00\\x00\\x00\\x00\\x00)\\x00\\x00\\x00\\x12\\x00\\x02\\x00\\x00\\x00\\x00\\x00\\x00\\x00\\x00\\x00\\x14\\x00\\x00\\x00\\x00\\x00\\x00\\x00\\x1c\\x00\\x00\\x00\\x00\\x00\\x00\\x00\\x04\\x01\\x00\\x00\\x02\\x00\\x00\\x00\\x00\\x00\\x00\\x00\\x00\\x00\\x00\\x00\\x00$x\\x00.text\\x00.note.GNU-stack\\x00.rela.eh_frame\\x00add\\x00$d\\x00.strtab\\x00.symtab\\x00<string>\\x00\\x00\\x00\\x00\\x00\\x00\\x00\\x00\\x00\\x00\\x00\\x00\\x00\\x00\\x00\\x00\\x00\\x00\\x00\\x00\\x00\\x00\\x00\\x00\\x00\\x00\\x00\\x00\\x00\\x00\\x00\\x00\\x00\\x00\\x00\\x00\\x00\\x00\\x00\\x00\\x00\\x00\\x00\\x00\\x00\\x00\\x00\\x00\\x00\\x00\\x00\\x00\\x00\\x00\\x00\\x00\\x00\\x00\\x00\\x00\\x00\\x00\\x00\\x00\\x00\\x00\\x00\\x00\\x00\\x00\\x00\\x000\\x00\\x00\\x00\\x03\\x00\\x00\\x00\\x00\\x00\\x00\\x00\\x00\\x00\\x00\\x00\\x00\\x00\\x00\\x00\\x00\\x00\\x00\\x000\\x01\\x00\\x00\\x00\\x00\\x00\\x00I\\x00\\x00\\x00\\x00\\x00\\x00\\x00\\x00\\x00\\x00\\x00\\x00\\x00\\x00\\x00\\x01\\x00\\x00\\x00\\x00\\x00\\x00\\x00\\x00\\x00\\x00\\x00\\x00\\x00\\x00\\x00\\x04\\x00\\x00\\x00\\x01\\x00\\x00\\x00\\x06\\x00\\x00\\x00\\x00\\x00\\x00\\x00\\x00\\x00\\x00\\x00\\x00\\x00\\x00\\x00@\\x00\\x00\\x00\\x00\\x00\\x00\\x00\\x14\\x00\\x00\\x00\\x00\\x00\\x00\\x00\\x00\\x00\\x00\\x00\\x00\\x00\\x00\\x00\\x04\\x00\\x00\\x00\\x00\\x00\\x00\\x00\\x00\\x00\\x00\\x00\\x00\\x00\\x00\\x00\\n\\x00\\x00\\x00\\x01\\x00\\x00\\x00\\x00\\x00\\x00\\x00\\x00\\x00\\x00\\x00\\x00\\x00\\x00\\x00\\x00\\x00\\x00\\x00T\\x00\\x00\\x00\\x00\\x00\\x00\\x00\\x00\\x00\\x00\\x00\\x00\\x00\\x00\\x00\\x00\\x00\\x00\\x00\\x00\\x00\\x00\\x00\\x01\\x00\\x00\\x00\\x00\\x00\\x00\\x00\\x00\\x00\\x00\\x00\\x00\\x00\\x00\\x00\\x1f\\x00\\x00\\x00\\x01\\x00\\x00\\x00\\x02\\x00\\x00\\x00\\x00\\x00\\x00\\x00\\x00\\x00\\x00\\x00\\x00\\x00\\x00\\x00X\\x00\\x00\\x00\\x00\\x00\\x00\\x000\\x00\\x00\\x00\\x00\\x00\\x00\\x00\\x00\\x00\\x00\\x00\\x00\\x00\\x00\\x00\\x08\\x00\\x00\\x00\\x00\\x00\\x00\\x00\\x00\\x00\\x00\\x00\\x00\\x00\\x00\\x00\\x1a\\x00\\x00\\x00\\x04\\x00\\x00\\x00@\\x00\\x00\\x00\\x00\\x00\\x00\\x00\\x00\\x00\\x00\\x00\\x00\\x00\\x00\\x00\\x18\\x01\\x00\\x00\\x00\\x00\\x00\\x00\\x18\\x00\\x00\\x00\\x00\\x00\\x00\\x00\\x06\\x00\\x00\\x00\\x04\\x00\\x00\\x00\\x08\\x00\\x00\\x00\\x00\\x00\\x00\\x00\\x18\\x00\\x00\\x00\\x00\\x00\\x00\\x008\\x00\\x00\\x00\\x02\\x00\\x00\\x00\\x00\\x00\\x00\\x00\\x00\\x00\\x00\\x00\\x00\\x00\\x00\\x00\\x00\\x00\\x00\\x00\\x88\\x00\\x00\\x00\\x00\\x00\\x00\\x00\\x90\\x00\\x00\\x00\\x00\\x00\\x00\\x00\\x01\\x00\\x00\\x00\\x05\\x00\\x00\\x00\\x08\\x00\\x00\\x00\\x00\\x00\\x00\\x00\\x18\\x00\\x00\\x00\\x00\\x00\\x00\\x00'\n"
     ]
    }
   ],
   "source": [
    "code_object_native = tm.emit_object(mod)\n",
    "code_object_aarch64 = aarch64_tm.emit_object(mod)\n",
    "print(code_object_native)\n",
    "\n"
   ]
  },
  {
   "cell_type": "markdown",
   "metadata": {},
   "source": [
    "# "
   ]
  },
  {
   "cell_type": "markdown",
   "metadata": {
    "id": "xdy2t4K-o7cp"
   },
   "source": [
    "# Part 3: Using the LLVM's jit compiler to execute the LLVM IR"
   ]
  },
  {
   "cell_type": "markdown",
   "metadata": {
    "id": "YVBoqyYJQ941"
   },
   "source": [
    "Lets execute the @add2 and @add3 function we created in first half of our tutorial"
   ]
  },
  {
   "cell_type": "code",
   "execution_count": 76,
   "metadata": {
    "id": "w5jG8W5lpBLT"
   },
   "outputs": [],
   "source": [
    "# Initializations\n",
    "\n",
    "import llvmlite.binding as llvm\n",
    "\n",
    "llvm.initialize_native_target()\n",
    "llvm.initialize_native_asmprinter()"
   ]
  },
  {
   "cell_type": "markdown",
   "metadata": {
    "id": "g3eMLFYW1fjz"
   },
   "source": [
    "Do any IR optimizations if any"
   ]
  },
  {
   "cell_type": "markdown",
   "metadata": {},
   "source": [
    "#### Example 1: Let's execute the add2 function we created earlier"
   ]
  },
  {
   "cell_type": "code",
   "execution_count": 77,
   "metadata": {
    "colab": {
     "base_uri": "https://localhost:8080/"
    },
    "id": "kQDc89f8pZ6Y",
    "outputId": "762bcb2a-cce0-4fce-b584-969f7d1d122a"
   },
   "outputs": [],
   "source": [
    "from ctypes import CFUNCTYPE, c_int, POINTER\n",
    "import llvmlite.binding as llvm\n",
    "\n",
    "ir = \"\"\"\n",
    "; ModuleID = \"add_module\"\n",
    "target triple = \"aarch64-unknown-linux\"\n",
    "target datalayout = \"\"\n",
    "\n",
    "define i32 @\"add2\"(i32 %\".1\", i32 %\".2\") noinline\n",
    "{\n",
    "entry:\n",
    "  %\"c\" = add i32 %\".1\", %\".2\"\n",
    "  ret i32 %\"c\"\n",
    "}\n",
    "\"\"\"\n",
    "llmod = llvm.parse_assembly(ir)\n",
    "tm = target_machine(False)\n",
    "compiler = llvm.create_mcjit_compiler(llmod, tm)\n",
    "compiler.finalize_object()\n"
   ]
  },
  {
   "cell_type": "markdown",
   "metadata": {
    "id": "0iJ5x7J-1kZ7"
   },
   "source": [
    "Create the execution engine"
   ]
  },
  {
   "cell_type": "code",
   "execution_count": 78,
   "metadata": {
    "id": "zKamm6nGplAn"
   },
   "outputs": [],
   "source": [
    "cfptr_add2 = compiler.get_function_address(\"add2\")\n",
    "cfunc_add2 = CFUNCTYPE(c_int, c_int)(cfptr_add2)"
   ]
  },
  {
   "cell_type": "code",
   "execution_count": 79,
   "metadata": {},
   "outputs": [
    {
     "name": "stdout",
     "output_type": "stream",
     "text": [
      "1\n",
      "3\n"
     ]
    }
   ],
   "source": [
    "print(cfunc_add2(-1, 2))\n",
    "print(cfunc_add2(1, 2))\n"
   ]
  },
  {
   "cell_type": "markdown",
   "metadata": {
    "id": "SyWaZZRJ1pys"
   },
   "source": [
    "We are gonna call our functions using pointers to these functions"
   ]
  },
  {
   "cell_type": "code",
   "execution_count": null,
   "metadata": {
    "id": "tDQi7IKURv8C"
   },
   "outputs": [],
   "source": []
  },
  {
   "cell_type": "markdown",
   "metadata": {
    "id": "rsk1nnjhs4xb"
   },
   "source": [
    "### A more complex example, sum of all elements in an array\n"
   ]
  },
  {
   "cell_type": "code",
   "execution_count": 82,
   "metadata": {
    "id": "4UaqvAj_tBWY"
   },
   "outputs": [],
   "source": [
    "import llvmlite.binding as llvm\n",
    "import numpy as np\n",
    "\n",
    "llvm.initialize_native_target()\n",
    "llvm.initialize_native_asmprinter()"
   ]
  },
  {
   "cell_type": "code",
   "execution_count": 84,
   "metadata": {
    "colab": {
     "base_uri": "https://localhost:8080/"
    },
    "id": "vtt0Kx7LtxiG",
    "outputId": "6825edce-fdaf-4d7f-c814-a390ecd8cf49"
   },
   "outputs": [
    {
     "name": "stdout",
     "output_type": "stream",
     "text": [
      "; ModuleID = '<string>'\n",
      "source_filename = \"<string>\"\n",
      "target triple = \"unknown-unknown-unknown\"\n",
      "\n",
      "; Function Attrs: nofree norecurse nosync nounwind memory(argmem: read)\n",
      "define i32 @sum(ptr nocapture readonly %.1, i32 %.2) local_unnamed_addr #0 {\n",
      ".4:\n",
      "  %0 = add i32 %.2, 2147483647\n",
      "  %or.cond = icmp ult i32 %0, -2147483641\n",
      "  br i1 %or.cond, label %.5.preheader, label %vector.ph\n",
      "\n",
      "vector.ph:                                        ; preds = %.4\n",
      "  %n.vec = and i32 %.2, -8\n",
      "  br label %vector.body\n",
      "\n",
      "vector.body:                                      ; preds = %vector.body, %vector.ph\n",
      "  %index = phi i32 [ 0, %vector.ph ], [ %index.next, %vector.body ]\n",
      "  %vec.phi = phi <4 x i32> [ zeroinitializer, %vector.ph ], [ %4, %vector.body ]\n",
      "  %vec.phi2 = phi <4 x i32> [ zeroinitializer, %vector.ph ], [ %5, %vector.body ]\n",
      "  %1 = sext i32 %index to i64\n",
      "  %2 = getelementptr i32, ptr %.1, i64 %1\n",
      "  %3 = getelementptr i8, ptr %2, i64 16\n",
      "  %wide.load = load <4 x i32>, ptr %2, align 4\n",
      "  %wide.load3 = load <4 x i32>, ptr %3, align 4\n",
      "  %4 = add <4 x i32> %wide.load, %vec.phi\n",
      "  %5 = add <4 x i32> %wide.load3, %vec.phi2\n",
      "  %index.next = add nuw i32 %index, 8\n",
      "  %6 = icmp eq i32 %index.next, %n.vec\n",
      "  br i1 %6, label %middle.block, label %vector.body, !llvm.loop !0\n",
      "\n",
      "middle.block:                                     ; preds = %vector.body\n",
      "  %bin.rdx = add <4 x i32> %5, %4\n",
      "  %7 = tail call i32 @llvm.vector.reduce.add.v4i32(<4 x i32> %bin.rdx)\n",
      "  %cmp.n = icmp eq i32 %.2, %n.vec\n",
      "  br i1 %cmp.n, label %.6, label %.5.preheader\n",
      "\n",
      ".5.preheader:                                     ; preds = %.4, %middle.block\n",
      "  %.8.ph = phi i32 [ 0, %.4 ], [ %n.vec, %middle.block ]\n",
      "  %.9.ph = phi i32 [ 0, %.4 ], [ %7, %middle.block ]\n",
      "  br label %.5\n",
      "\n",
      ".5:                                               ; preds = %.5.preheader, %.5\n",
      "  %.8 = phi i32 [ %.13, %.5 ], [ %.8.ph, %.5.preheader ]\n",
      "  %.9 = phi i32 [ %.12, %.5 ], [ %.9.ph, %.5.preheader ]\n",
      "  %8 = sext i32 %.8 to i64\n",
      "  %.10 = getelementptr i32, ptr %.1, i64 %8\n",
      "  %.11 = load i32, ptr %.10, align 4\n",
      "  %.12 = add i32 %.11, %.9\n",
      "  %.13 = add nuw i32 %.8, 1\n",
      "  %.14 = icmp ult i32 %.13, %.2\n",
      "  br i1 %.14, label %.5, label %.6, !llvm.loop !3\n",
      "\n",
      ".6:                                               ; preds = %.5, %middle.block\n",
      "  %.12.lcssa = phi i32 [ %7, %middle.block ], [ %.12, %.5 ]\n",
      "  ret i32 %.12.lcssa\n",
      "}\n",
      "\n",
      "; Function Attrs: nocallback nofree nosync nounwind speculatable willreturn memory(none)\n",
      "declare i32 @llvm.vector.reduce.add.v4i32(<4 x i32>) #1\n",
      "\n",
      "attributes #0 = { nofree norecurse nosync nounwind memory(argmem: read) }\n",
      "attributes #1 = { nocallback nofree nosync nounwind speculatable willreturn memory(none) }\n",
      "\n",
      "!0 = distinct !{!0, !1, !2}\n",
      "!1 = !{!\"llvm.loop.isvectorized\", i32 1}\n",
      "!2 = !{!\"llvm.loop.unroll.runtime.disable\"}\n",
      "!3 = distinct !{!3, !1}\n",
      "\n"
     ]
    }
   ],
   "source": [
    "ir = \"\"\"\n",
    "; ModuleID = '<string>'\n",
    "source_filename = \"<string>\"\n",
    "target triple = \"unknown-unknown-unknown\"\n",
    "\n",
    "define i32 @sum(i32* %.1, i32 %.2) {\n",
    ".4:\n",
    "  br label %.5\n",
    "\n",
    ".5:                                               ; preds = %.5, %.4\n",
    "  %.8 = phi i32 [ 0, %.4 ], [ %.13, %.5 ]\n",
    "  %.9 = phi i32 [ 0, %.4 ], [ %.12, %.5 ]\n",
    "  %.10 = getelementptr i32, i32* %.1, i32 %.8\n",
    "  %.11 = load i32, i32* %.10, align 4\n",
    "  %.12 = add i32 %.9, %.11\n",
    "  %.13 = add i32 %.8, 1\n",
    "  %.14 = icmp ult i32 %.13, %.2\n",
    "  br i1 %.14, label %.5, label %.6\n",
    "\n",
    ".6:                                               ; preds = %.5\n",
    "  ret i32 %.12\n",
    "}\n",
    "\"\"\"\n",
    "\n",
    "# Let's optimize the module first\n",
    "\n",
    "mod = llvm.parse_assembly(ir)\n",
    "pb = pass_builder(speed_level=3)\n",
    "\n",
    "# Get appropriate pass manager for this speed level and optimise the module\n",
    "pm = pb.getModulePassManager()\n",
    "pm.run(mod, pb)\n",
    "print(mod)\n"
   ]
  },
  {
   "cell_type": "code",
   "execution_count": null,
   "metadata": {},
   "outputs": [],
   "source": []
  },
  {
   "cell_type": "code",
   "execution_count": 85,
   "metadata": {
    "id": "Z__gpg4qt8W4"
   },
   "outputs": [],
   "source": [
    "from ctypes import CFUNCTYPE, c_int, POINTER\n",
    "\n",
    "tm = target_machine(True)\n",
    "compiler = llvm.create_mcjit_compiler(mod, tm)\n",
    "\n",
    "compiler.finalize_object()\n",
    "cfptr = compiler.get_function_address(\"sum\")\n",
    "\n",
    "cfunc = CFUNCTYPE(c_int, POINTER(c_int), c_int)(cfptr)\n",
    "\n"
   ]
  },
  {
   "cell_type": "code",
   "execution_count": 86,
   "metadata": {},
   "outputs": [
    {
     "data": {
      "text/plain": [
       "'\\t.file\\t\"<string>\"\\n\\t.text\\n\\t.globl\\tsum\\n\\t.p2align\\t2\\n\\t.type\\tsum,@function\\nsum:\\n\\tmov\\tw8, #2147483647\\n\\tmov\\tw9, #-2147483641\\n\\tadd\\tw8, w1, w8\\n\\tcmp\\tw8, w9\\n\\tb.hs\\t.LBB0_2\\n\\tmov\\tw9, wzr\\n\\tmov\\tw8, wzr\\n\\tb\\t.LBB0_5\\n.LBB0_2:\\n\\tmovi\\tv0.2d, #0000000000000000\\n\\tmovi\\tv1.2d, #0000000000000000\\n\\tand\\tw9, w1, #0xfffffff8\\n\\tadd\\tx8, x0, #16\\n\\tneg\\tw10, w9\\n.LBB0_3:\\n\\tldp\\tq2, q3, [x8, #-16]\\n\\tadds\\tw10, w10, #8\\n\\tadd\\tx8, x8, #32\\n\\tadd\\tv0.4s, v2.4s, v0.4s\\n\\tadd\\tv1.4s, v3.4s, v1.4s\\n\\tb.ne\\t.LBB0_3\\n\\tadd\\tv0.4s, v1.4s, v0.4s\\n\\tcmp\\tw1, w9\\n\\taddv\\ts0, v0.4s\\n\\tfmov\\tw8, s0\\n\\tb.eq\\t.LBB0_6\\n.LBB0_5:\\n\\tldr\\tw10, [x0, w9, sxtw #2]\\n\\tadd\\tw9, w9, #1\\n\\tcmp\\tw9, w1\\n\\tadd\\tw8, w10, w8\\n\\tb.lo\\t.LBB0_5\\n.LBB0_6:\\n\\tmov\\tw0, w8\\n\\tret\\n.Lfunc_end0:\\n\\t.size\\tsum, .Lfunc_end0-sum\\n\\n\\t.section\\t\".note.GNU-stack\",\"\",@progbits\\n'"
      ]
     },
     "execution_count": 86,
     "metadata": {},
     "output_type": "execute_result"
    }
   ],
   "source": [
    "tm.emit_assembly(mod)"
   ]
  },
  {
   "cell_type": "code",
   "execution_count": 87,
   "metadata": {
    "colab": {
     "base_uri": "https://localhost:8080/"
    },
    "id": "MmjQxAcAuq5i",
    "outputId": "4bd5c226-e479-4fb4-a857-197e9885d807"
   },
   "outputs": [
    {
     "name": "stdout",
     "output_type": "stream",
     "text": [
      "[0 1 2 3 4 5 6 7 8 9]\n",
      "6 45\n",
      "[1, 2, 3]\n",
      "6 6\n"
     ]
    }
   ],
   "source": [
    "A = np.arange(10, dtype=np.int32)\n",
    "res = cfunc(A.ctypes.data_as(POINTER(c_int)), A.size)\n",
    "\n",
    "\n",
    "B = [1, 2, 3]\n",
    "arr = (c_int * len(B))(*B)\n",
    "res = cfunc(arr, len(B))\n",
    "\n",
    "print(A)\n",
    "print(res, A.sum())\n",
    "\n",
    "print(B)\n",
    "print(res, sum(B))\n"
   ]
  },
  {
   "cell_type": "markdown",
   "metadata": {},
   "source": [
    "### Custom target machines"
   ]
  },
  {
   "cell_type": "code",
   "execution_count": 97,
   "metadata": {},
   "outputs": [],
   "source": [
    "target = llvm.Target.from_triple(\"aarch64-unknown-linux\")\n"
   ]
  },
  {
   "cell_type": "code",
   "execution_count": 98,
   "metadata": {},
   "outputs": [],
   "source": [
    "tm_default_aarch64 = target.create_target_machine(cpu='', features='',\n",
    "                              opt=2, reloc='default', codemodel='jitdefault',\n",
    "                              printmc=False, jit=False, abiname='')\n"
   ]
  },
  {
   "cell_type": "code",
   "execution_count": 104,
   "metadata": {},
   "outputs": [],
   "source": [
    "tm_neoverse_v2 = tm = target.create_target_machine(cpu='neoverse-v2', features='',\n",
    "                              opt=2, reloc='default', codemodel='jitdefault',\n",
    "                              printmc=False, jit=False, abiname='')\n"
   ]
  },
  {
   "cell_type": "code",
   "execution_count": 110,
   "metadata": {},
   "outputs": [
    {
     "name": "stderr",
     "output_type": "stream",
     "text": [
      "'                                +fp-armv8' is not a recognized feature for this target (ignoring feature)\n"
     ]
    }
   ],
   "source": [
    "tm_features = tm = target.create_target_machine(cpu='', features='+crc,+crypto,\\\n",
    "                                +fp-armv8,+lse,+neon,+sve,+sve2',\n",
    "                              opt=2, reloc='default', codemodel='jitdefault',\n",
    "                              printmc=False, jit=False, abiname='')\n"
   ]
  },
  {
   "cell_type": "code",
   "execution_count": 100,
   "metadata": {},
   "outputs": [],
   "source": [
    "ir = \"\"\"\n",
    "; ModuleID = '<string>'\n",
    "source_filename = \"<string>\"\n",
    "target triple = \"unknown-unknown-unknown\"\n",
    "\n",
    "define i32 @sum(i32* %.1, i32 %.2) {\n",
    ".4:\n",
    "  br label %.5\n",
    "\n",
    ".5:                                               ; preds = %.5, %.4\n",
    "  %.8 = phi i32 [ 0, %.4 ], [ %.13, %.5 ]\n",
    "  %.9 = phi i32 [ 0, %.4 ], [ %.12, %.5 ]\n",
    "  %.10 = getelementptr i32, i32* %.1, i32 %.8\n",
    "  %.11 = load i32, i32* %.10, align 4\n",
    "  %.12 = add i32 %.9, %.11\n",
    "  %.13 = add i32 %.8, 1\n",
    "  %.14 = icmp ult i32 %.13, %.2\n",
    "  br i1 %.14, label %.5, label %.6\n",
    "\n",
    ".6:                                               ; preds = %.5\n",
    "  ret i32 %.12\n",
    "}\n",
    "\"\"\"\n",
    "\n",
    "# Let's optimize the module first\n",
    "\n",
    "mod = llvm.parse_assembly(ir)\n",
    "pb = pass_builder(speed_level=3)\n",
    "\n",
    "# Get appropriate pass manager for this speed level and optimise the module\n",
    "pm = pb.getModulePassManager()\n",
    "pm.run(mod, pb)"
   ]
  },
  {
   "cell_type": "code",
   "execution_count": 105,
   "metadata": {},
   "outputs": [
    {
     "name": "stdout",
     "output_type": "stream",
     "text": [
      "\t.file\t\"<string>\"\n",
      "\t.text\n",
      "\t.globl\tsum\n",
      "\t.p2align\t2\n",
      "\t.type\tsum,@function\n",
      "sum:\n",
      "\tmov\tw8, #2147483647\n",
      "\tmov\tw9, #-2147483641\n",
      "\tadd\tw8, w1, w8\n",
      "\tcmp\tw8, w9\n",
      "\tb.hs\t.LBB0_2\n",
      "\tmov\tw9, wzr\n",
      "\tmov\tw8, wzr\n",
      "\tb\t.LBB0_5\n",
      ".LBB0_2:\n",
      "\tmovi\tv0.2d, #0000000000000000\n",
      "\tmovi\tv1.2d, #0000000000000000\n",
      "\tand\tw9, w1, #0xfffffff8\n",
      "\tadd\tx8, x0, #16\n",
      "\tneg\tw10, w9\n",
      ".LBB0_3:\n",
      "\tldp\tq2, q3, [x8, #-16]\n",
      "\tadds\tw10, w10, #8\n",
      "\tadd\tx8, x8, #32\n",
      "\tadd\tv0.4s, v2.4s, v0.4s\n",
      "\tadd\tv1.4s, v3.4s, v1.4s\n",
      "\tb.ne\t.LBB0_3\n",
      "\tadd\tv0.4s, v1.4s, v0.4s\n",
      "\tcmp\tw1, w9\n",
      "\taddv\ts0, v0.4s\n",
      "\tfmov\tw8, s0\n",
      "\tb.eq\t.LBB0_6\n",
      ".LBB0_5:\n",
      "\tldr\tw10, [x0, w9, sxtw #2]\n",
      "\tadd\tw9, w9, #1\n",
      "\tcmp\tw9, w1\n",
      "\tadd\tw8, w10, w8\n",
      "\tb.lo\t.LBB0_5\n",
      ".LBB0_6:\n",
      "\tmov\tw0, w8\n",
      "\tret\n",
      ".Lfunc_end0:\n",
      "\t.size\tsum, .Lfunc_end0-sum\n",
      "\n",
      "\t.section\t\".note.GNU-stack\",\"\",@progbits\n",
      "\n"
     ]
    }
   ],
   "source": [
    "print(tm_default_aarch64.emit_assembly(mod))"
   ]
  },
  {
   "cell_type": "code",
   "execution_count": 106,
   "metadata": {},
   "outputs": [
    {
     "name": "stdout",
     "output_type": "stream",
     "text": [
      "\t.file\t\"<string>\"\n",
      "\t.text\n",
      "\t.globl\tsum\n",
      "\t.p2align\t4\n",
      "\t.type\tsum,@function\n",
      "sum:\n",
      "\tmov\tw8, #2147483647\n",
      "\tmov\tw9, #-2147483641\n",
      "\tadd\tw8, w1, w8\n",
      "\tcmp\tw8, w9\n",
      "\tb.hs\t.LBB0_2\n",
      "\tmov\tw9, wzr\n",
      "\tmov\tw8, wzr\n",
      "\tb\t.LBB0_5\n",
      ".LBB0_2:\n",
      "\tand\tw9, w1, #0xfffffff8\n",
      "\tadd\tx8, x0, #16\n",
      "\tmovi\tv0.2d, #0000000000000000\n",
      "\tmovi\tv1.2d, #0000000000000000\n",
      "\tmov\tw10, w9\n",
      "\t.p2align\t5, , 16\n",
      ".LBB0_3:\n",
      "\tldp\tq2, q3, [x8, #-16]\n",
      "\tadd\tx8, x8, #32\n",
      "\tsubs\tw10, w10, #8\n",
      "\tadd\tv1.4s, v3.4s, v1.4s\n",
      "\tadd\tv0.4s, v2.4s, v0.4s\n",
      "\tb.ne\t.LBB0_3\n",
      "\tadd\tv0.4s, v1.4s, v0.4s\n",
      "\taddv\ts0, v0.4s\n",
      "\tfmov\tw8, s0\n",
      "\tcmp\tw1, w9\n",
      "\tb.eq\t.LBB0_6\n",
      "\t.p2align\t5, , 16\n",
      ".LBB0_5:\n",
      "\tldr\tw10, [x0, w9, sxtw #2]\n",
      "\tadd\tw9, w9, #1\n",
      "\tadd\tw8, w10, w8\n",
      "\tcmp\tw9, w1\n",
      "\tb.lo\t.LBB0_5\n",
      ".LBB0_6:\n",
      "\tmov\tw0, w8\n",
      "\tret\n",
      ".Lfunc_end0:\n",
      "\t.size\tsum, .Lfunc_end0-sum\n",
      "\n",
      "\t.section\t\".note.GNU-stack\",\"\",@progbits\n",
      "\n"
     ]
    }
   ],
   "source": [
    "print(tm_neoverse_v2.emit_assembly(mod))"
   ]
  },
  {
   "cell_type": "code",
   "execution_count": 108,
   "metadata": {},
   "outputs": [
    {
     "name": "stdout",
     "output_type": "stream",
     "text": [
      "\t.file\t\"<string>\"\n",
      "\t.text\n",
      "\t.globl\tsum\n",
      "\t.p2align\t2\n",
      "\t.type\tsum,@function\n",
      "sum:\n",
      "\tmov\tw8, #2147483647\n",
      "\tmov\tw9, #-2147483641\n",
      "\tadd\tw8, w1, w8\n",
      "\tcmp\tw8, w9\n",
      "\tb.hs\t.LBB0_2\n",
      "\tmov\tw9, wzr\n",
      "\tmov\tw8, wzr\n",
      "\tb\t.LBB0_5\n",
      ".LBB0_2:\n",
      "\tmovi\tv0.2d, #0000000000000000\n",
      "\tmovi\tv1.2d, #0000000000000000\n",
      "\tand\tw9, w1, #0xfffffff8\n",
      "\tadd\tx8, x0, #16\n",
      "\tneg\tw10, w9\n",
      ".LBB0_3:\n",
      "\tldp\tq2, q3, [x8, #-16]\n",
      "\tadds\tw10, w10, #8\n",
      "\tadd\tx8, x8, #32\n",
      "\tadd\tv0.4s, v2.4s, v0.4s\n",
      "\tadd\tv1.4s, v3.4s, v1.4s\n",
      "\tb.ne\t.LBB0_3\n",
      "\tadd\tv0.4s, v1.4s, v0.4s\n",
      "\tcmp\tw1, w9\n",
      "\taddv\ts0, v0.4s\n",
      "\tfmov\tw8, s0\n",
      "\tb.eq\t.LBB0_6\n",
      ".LBB0_5:\n",
      "\tldr\tw10, [x0, w9, sxtw #2]\n",
      "\tadd\tw9, w9, #1\n",
      "\tcmp\tw9, w1\n",
      "\tadd\tw8, w10, w8\n",
      "\tb.lo\t.LBB0_5\n",
      ".LBB0_6:\n",
      "\tmov\tw0, w8\n",
      "\tret\n",
      ".Lfunc_end0:\n",
      "\t.size\tsum, .Lfunc_end0-sum\n",
      "\n",
      "\t.section\t\".note.GNU-stack\",\"\",@progbits\n",
      "\n"
     ]
    }
   ],
   "source": [
    "print(tm_neoverse_v2_features.emit_assembly(mod))"
   ]
  },
  {
   "cell_type": "code",
   "execution_count": null,
   "metadata": {},
   "outputs": [],
   "source": []
  }
 ],
 "metadata": {
  "colab": {
   "collapsed_sections": [
    "6jSOz6Zqed6e",
    "xdy2t4K-o7cp"
   ],
   "gpuType": "T4",
   "provenance": []
  },
  "kernelspec": {
   "display_name": "Python 3 (ipykernel)",
   "language": "python",
   "name": "python3"
  },
  "language_info": {
   "codemirror_mode": {
    "name": "ipython",
    "version": 3
   },
   "file_extension": ".py",
   "mimetype": "text/x-python",
   "name": "python",
   "nbconvert_exporter": "python",
   "pygments_lexer": "ipython3",
   "version": "3.10.12"
  }
 },
 "nbformat": 4,
 "nbformat_minor": 4
}
